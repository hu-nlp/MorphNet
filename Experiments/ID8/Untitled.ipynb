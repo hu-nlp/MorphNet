{
 "cells": [
  {
   "cell_type": "code",
   "execution_count": 1,
   "metadata": {},
   "outputs": [],
   "source": [
    "from utils import *\n",
    "gold_morph = \"/Users/huseyinalecakir/NLP_LAB/data/tr_imst_ud-gold.tr\"\n",
    "conll_train = \"/Users/huseyinalecakir/NLP_LAB/data/tr_imst-ud-train.conllu\"\n",
    "conll_dev = \"/Users/huseyinalecakir/NLP_LAB/data/tr_imst-ud-dev.conllu\"\n",
    "\n"
   ]
  },
  {
   "cell_type": "code",
   "execution_count": 2,
   "metadata": {},
   "outputs": [],
   "source": [
    "morph_dict = get_morph_dict(gold_morph)\n",
    "m2i, t2i = vocab(conll_train, morph_dict)"
   ]
  },
  {
   "cell_type": "code",
   "execution_count": 3,
   "metadata": {},
   "outputs": [],
   "source": [
    "with open(conll_train, 'r') as conllFP:\n",
    "    shuffled_data = list(read_conll(conllFP, m2i, t2i, morph_dict))\n",
    "    \n",
    "    \n",
    "    "
   ]
  },
  {
   "cell_type": "code",
   "execution_count": 4,
   "metadata": {},
   "outputs": [
    {
     "name": "stdout",
     "output_type": "stream",
     "text": [
      "NOT FOUND - Entries: 2554  Morphs: 0\n",
      "FOUND - Entries: 35528  Morphs: 55885\n"
     ]
    }
   ],
   "source": [
    "not_found_morphs = list()\n",
    "not_found_entries = list()\n",
    "found_morphs = list()\n",
    "found_entries = list()\n",
    "\n",
    "for iSentence, sentence in enumerate(shuffled_data):\n",
    "    conll_sentence = [entry for entry in sentence if isinstance(entry, ConllEntry)]\n",
    "    for idx, entry in enumerate(conll_sentence):\n",
    "        if entry.norm in morph_dict:\n",
    "            found_entries.append(entry.norm)\n",
    "            for morph in morph_dict[entry.norm]:\n",
    "                if morph in m2i:\n",
    "                    found_morphs.append(morph)\n",
    "                else:\n",
    "                    print(entry.norm)\n",
    "                    not_found_morphs.append(morph)\n",
    "                    import pdb\n",
    "                    pdb.set_trace()\n",
    "\n",
    "        else:\n",
    "            not_found_entries.append(entry.norm)\n",
    "\n",
    "\n",
    "print(\"NOT FOUND - Entries: {}  Morphs: {}\".format(len(not_found_entries), len(not_found_morphs)))\n",
    "print(\"FOUND - Entries: {}  Morphs: {}\".format(len(found_entries), len(found_morphs)))\n",
    "\n"
   ]
  },
  {
   "cell_type": "code",
   "execution_count": 5,
   "metadata": {},
   "outputs": [
    {
     "name": "stdout",
     "output_type": "stream",
     "text": [
      "ÇŞĞasadv\n"
     ]
    }
   ],
   "source": [
    "s = \"ÇŞĞasADV\"\n",
    "print(s.lower())"
   ]
  },
  {
   "cell_type": "code",
   "execution_count": null,
   "metadata": {},
   "outputs": [],
   "source": [
    "\n",
    "NOT FOUND - Entries: 2101  Morphs: 0\n",
    "FOUND - Entries: 35981  Morphs: 56540\n",
    "        \n",
    "        \n",
    "        \n",
    "NOT FOUND - Entries: 2554  Morphs: 0\n",
    "FOUND - Entries: 35528  Morphs: 55885"
   ]
  }
 ],
 "metadata": {
  "kernelspec": {
   "display_name": "Python 2",
   "language": "python",
   "name": "python2"
  },
  "language_info": {
   "codemirror_mode": {
    "name": "ipython",
    "version": 2
   },
   "file_extension": ".py",
   "mimetype": "text/x-python",
   "name": "python",
   "nbconvert_exporter": "python",
   "pygments_lexer": "ipython2",
   "version": "2.7.14"
  }
 },
 "nbformat": 4,
 "nbformat_minor": 2
}
